{
 "cells": [
  {
   "cell_type": "markdown",
   "metadata": {
    "colab_type": "text",
    "id": "view-in-github"
   },
   "source": [
    "<a href=\"https://colab.research.google.com/github/tsenga2/keio-quant-macro/blob/main/growth_comp_2023.ipynb\" target=\"_parent\"><img src=\"https://colab.research.google.com/assets/colab-badge.svg\" alt=\"Open In Colab\"/></a>"
   ]
  },
  {
   "cell_type": "code",
   "execution_count": 1,
   "metadata": {},
   "outputs": [
    {
     "name": "stdout",
     "output_type": "stream",
     "text": [
      "             Growth Rate  TFP Growth  Capital Deepening  TFP Share  \\\n",
      "countrycode                                                          \n",
      "CAN             0.744709    0.207389           0.537943   0.278483   \n",
      "DEU             0.689737    0.288159           0.412125   0.417781   \n",
      "FRA             0.818749    0.289019           0.530840   0.353001   \n",
      "GBR             1.104174    0.846882           0.260364   0.766983   \n",
      "ITA             0.043478   -0.574149           0.622656 -13.205667   \n",
      "JPN             0.909459    0.016058           0.931534   0.017657   \n",
      "USA             1.589208    0.993836           0.602823   0.625366   \n",
      "\n",
      "             Capital Share  \n",
      "countrycode                 \n",
      "CAN               0.722353  \n",
      "DEU               0.597510  \n",
      "FRA               0.648355  \n",
      "GBR               0.235800  \n",
      "ITA              14.321333  \n",
      "JPN               1.024273  \n",
      "USA               0.379323  \n"
     ]
    }
   ],
   "source": [
    "import pandas as pd\n",
    "import numpy as np\n",
    "\n",
    "\n",
    "# Load data\n",
    "pwt90 = pd.read_stata('https://www.rug.nl/ggdc/docs/pwt90.dta')\n",
    "pwt1001 = pd.read_stata('https://dataverse.nl/api/access/datafile/354098')\n",
    "\n",
    "# Filter and select relevant columns\n",
    "data = pwt90.loc[pwt90['country'].isin(['France', 'Germany', 'Canada', 'Italy', 'Japan', 'United Kingdom', 'United States'])][['year', 'countrycode', 'rgdpna', 'rkna', 'pop', 'emp', 'avh', 'labsh', 'rtfpna']]\n",
    "data = data.loc[(data['year'] >= 1995) & (data['year'] <= 2019)].dropna()\n",
    "\n",
    "# Calculate additional columns\n",
    "data['y_pc'] = np.log(data['rgdpna'] / data['emp'])  # GDP per worker\n",
    "data['k_pc'] = np.log(data['rkna'] / data['emp'])  # Capital per worker\n",
    "data['a'] = 1 - data['labsh']  # Capital share\n",
    "\n",
    "# Order by year\n",
    "data = data.sort_values('year')\n",
    "\n",
    "# Group b y isocode\n",
    "grouped_data = data.groupby('countrycode')\n",
    "\n",
    "# Calculate growth rates and Solow residual\n",
    "data['Growth Rate'] = (grouped_data['y_pc'].diff() * 100)  # Growth rate of GDP per capita\n",
    "data['dk'] = (grouped_data['k_pc'].diff() * 100)  # Growth rate of capital per capita\n",
    "data['TFP Growth'] = data['Growth Rate'] - data['a'] * data['dk'] # Growth rate of TFP per capita\n",
    "\n",
    "# Remove missing values\n",
    "data = data.dropna()\n",
    "\n",
    "# Calculate summary statistics\n",
    "summary = data.groupby('countrycode').agg({'Growth Rate': 'mean',\n",
    "                                           'a': 'mean',\n",
    "                                           'dk': 'mean',\n",
    "                                           'TFP Growth':'mean'})\n",
    "\n",
    "# Calculate additional summary statistics\n",
    "summary['Capital Deepening'] = summary['a'] * summary['dk']\n",
    "summary['TFP Share'] = summary['TFP Growth'] / summary['Growth Rate']\n",
    "summary['Capital Share'] = summary['Capital Deepening'] / summary['Growth Rate']\n",
    "\n",
    "#\n",
    "summary.drop(['a','dk'], axis = 1, inplace=True)\n",
    "\n",
    "# Print output\n",
    "print(summary)"
   ]
  },
  {
   "cell_type": "code",
   "execution_count": null,
   "metadata": {},
   "outputs": [],
   "source": []
  }
 ],
 "metadata": {
  "colab": {
   "authorship_tag": "ABX9TyONxeefWckOHQ87l6oHyff+",
   "include_colab_link": true,
   "provenance": []
  },
  "kernelspec": {
   "display_name": "Python 3 (ipykernel)",
   "language": "python",
   "name": "python3"
  },
  "language_info": {
   "codemirror_mode": {
    "name": "ipython",
    "version": 3
   },
   "file_extension": ".py",
   "mimetype": "text/x-python",
   "name": "python",
   "nbconvert_exporter": "python",
   "pygments_lexer": "ipython3",
   "version": "3.9.7"
  }
 },
 "nbformat": 4,
 "nbformat_minor": 1
}
